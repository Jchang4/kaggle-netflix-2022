{
 "cells": [
  {
   "cell_type": "code",
   "execution_count": 1,
   "metadata": {},
   "outputs": [],
   "source": [
    "%load_ext autoreload\n",
    "%autoreload 2"
   ]
  },
  {
   "attachments": {},
   "cell_type": "markdown",
   "metadata": {},
   "source": [
    "### Download zip file from here https://www.kaggle.com/datasets/thedevastator/the-ultimate-netflix-tv-shows-and-movies-dataset"
   ]
  },
  {
   "cell_type": "code",
   "execution_count": 2,
   "metadata": {},
   "outputs": [
    {
     "name": "stdout",
     "output_type": "stream",
     "text": [
      "mkdir: netflix_data: File exists\n",
      "0 - Setup Data.ipynb helpers.py           \u001b[1m\u001b[36mnetflix_data\u001b[m\u001b[m\n",
      "\u001b[1m\u001b[36m__pycache__\u001b[m\u001b[m          \u001b[1m\u001b[36mjupyter_helpers\u001b[m\u001b[m\n"
     ]
    }
   ],
   "source": [
    "!mkdir netflix_data && mv netflix_2022.zip netflix_data\n",
    "!ls"
   ]
  },
  {
   "cell_type": "code",
   "execution_count": 6,
   "metadata": {},
   "outputs": [],
   "source": [
    "import zipfile"
   ]
  },
  {
   "cell_type": "code",
   "execution_count": 8,
   "metadata": {},
   "outputs": [],
   "source": [
    "with zipfile.ZipFile(\"netflix_data/netflix_2022.zip\", \"r\") as zip_ref:\n",
    "    zip_ref.extractall('netflix_data')"
   ]
  },
  {
   "cell_type": "code",
   "execution_count": 7,
   "metadata": {},
   "outputs": [],
   "source": [
    "from jupyter_helpers import *\n",
    "from helpers import *"
   ]
  }
 ],
 "metadata": {
  "kernelspec": {
   "display_name": "Python 3 (ipykernel)",
   "language": "python",
   "name": "python3"
  },
  "orig_nbformat": 4,
  "vscode": {
   "interpreter": {
    "hash": "6b6cedc503478353731f605ddbfb5ce5eeada3dad156b26727da5e56b4506560"
   }
  }
 },
 "nbformat": 4,
 "nbformat_minor": 2
}
